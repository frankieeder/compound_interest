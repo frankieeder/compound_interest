{
 "cells": [
  {
   "cell_type": "code",
   "execution_count": null,
   "id": "e9c3cd1e",
   "metadata": {},
   "outputs": [],
   "source": [
    "import numpy as np\n",
    "import pandas as pd"
   ]
  },
  {
   "cell_type": "code",
   "execution_count": null,
   "id": "1cd7ca79",
   "metadata": {},
   "outputs": [],
   "source": [
    "INITIAL_INVESTMENT = 0\n",
    "PER_PERIOD = 32_850\n",
    "NUM_PERIODS_CONTRIBUTED = 10\n",
    "NUM_PERIODS = 42\n",
    "RETURN_PER_PERIOD = 0.08"
   ]
  },
  {
   "cell_type": "code",
   "execution_count": null,
   "id": "c0720c07",
   "metadata": {},
   "outputs": [],
   "source": [
    "returns = (1 + RETURN_PER_PERIOD) ** np.arange(NUM_PERIODS)\n",
    "returns"
   ]
  },
  {
   "cell_type": "code",
   "execution_count": null,
   "id": "c1cdb76c",
   "metadata": {},
   "outputs": [],
   "source": [
    "contributions = np.array([PER_PERIOD]*NUM_PERIODS)\n",
    "contributions"
   ]
  },
  {
   "cell_type": "code",
   "execution_count": null,
   "id": "fb6c5926",
   "metadata": {},
   "outputs": [],
   "source": [
    "outer_product = np.outer(returns, contributions)\n",
    "shifted = outer_product / returns\n",
    "upper_only = np.tril(shifted)\n",
    "growth_per_contribution = upper_only\n",
    "growth_per_contribution.shape, growth_per_contribution"
   ]
  },
  {
   "cell_type": "code",
   "execution_count": null,
   "id": "135dc03f",
   "metadata": {},
   "outputs": [],
   "source": [
    "if NUM_PERIODS_CONTRIBUTED > 0:\n",
    "    growth_per_contribution = growth_per_contribution[:,:NUM_PERIODS_CONTRIBUTED]\n",
    "growth_per_contribution"
   ]
  },
  {
   "cell_type": "code",
   "execution_count": null,
   "id": "65aff0ea",
   "metadata": {},
   "outputs": [],
   "source": [
    "initial_investment_growth = returns * INITIAL_INVESTMENT\n",
    "initial_investment_growth"
   ]
  },
  {
   "cell_type": "code",
   "execution_count": null,
   "id": "7a87d09f",
   "metadata": {},
   "outputs": [],
   "source": [
    "cols = [f\"Contribution {i}\" for i in range(growth_per_contribution.shape[1])]\n",
    "df = pd.DataFrame(growth_per_contribution, columns=cols)\n",
    "df['Initial Investment'] = initial_investment_growth\n",
    "df = df[['Initial Investment'] + cols]\n",
    "df = df.reset_index()\n",
    "df"
   ]
  },
  {
   "cell_type": "code",
   "execution_count": null,
   "id": "da5cb693",
   "metadata": {},
   "outputs": [],
   "source": [
    "import plotly.express as px\n",
    "import plotly.io as pio\n",
    "pio.renderers.default = 'iframe'"
   ]
  },
  {
   "cell_type": "code",
   "execution_count": null,
   "id": "d2ef5d5d",
   "metadata": {},
   "outputs": [],
   "source": [
    "melted_df = df.melt(id_vars='index')\n",
    "melted_df"
   ]
  },
  {
   "cell_type": "code",
   "execution_count": null,
   "id": "97963eb3",
   "metadata": {},
   "outputs": [],
   "source": [
    "unique_vars = melted_df['variable'].unique()\n",
    "var_to_id = {v: i for i, v in enumerate(unique_vars)}\n",
    "melted_df['var_id'] = melted_df['variable'].replace(var_to_id)\n",
    "melted_df"
   ]
  },
  {
   "cell_type": "code",
   "execution_count": null,
   "id": "198d4cc8",
   "metadata": {},
   "outputs": [],
   "source": [
    "fig = px.bar(melted_df, x='index', y='value', color='var_id', hover_name='variable')"
   ]
  },
  {
   "cell_type": "code",
   "execution_count": null,
   "id": "bbdded72",
   "metadata": {},
   "outputs": [],
   "source": [
    "fig.show()"
   ]
  }
 ],
 "metadata": {
  "kernelspec": {
   "display_name": "Python 3 (ipykernel)",
   "language": "python",
   "name": "python3"
  },
  "language_info": {
   "codemirror_mode": {
    "name": "ipython",
    "version": 3
   },
   "file_extension": ".py",
   "mimetype": "text/x-python",
   "name": "python",
   "nbconvert_exporter": "python",
   "pygments_lexer": "ipython3",
   "version": "3.10.9"
  }
 },
 "nbformat": 4,
 "nbformat_minor": 5
}
